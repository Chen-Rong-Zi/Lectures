{
 "cells": [
  {
   "cell_type": "markdown",
   "id": "dbb0b19d-cd75-4e5f-9fa3-963b789091c6",
   "metadata": {},
   "source": [
    "import sympy"
   ]
  },
  {
   "cell_type": "code",
   "execution_count": 5,
   "id": "68566f16-7d0f-410b-ab82-516b4a2bd999",
   "metadata": {},
   "outputs": [],
   "source": [
    "from sympy import *"
   ]
  },
  {
   "cell_type": "code",
   "execution_count": 6,
   "id": "94b86ee3-5031-4c40-9518-801cfa76cc52",
   "metadata": {},
   "outputs": [],
   "source": [
    "from sympy.abc import x, y, t"
   ]
  },
  {
   "cell_type": "code",
   "execution_count": 7,
   "id": "346964cf-1fa1-4afe-9ed6-e856bc57c9d0",
   "metadata": {},
   "outputs": [
    {
     "data": {
      "text/latex": [
       "$\\displaystyle x$"
      ],
      "text/plain": [
       "x"
      ]
     },
     "execution_count": 7,
     "metadata": {},
     "output_type": "execute_result"
    }
   ],
   "source": [
    "x"
   ]
  },
  {
   "cell_type": "code",
   "execution_count": 75,
   "id": "ddaf7759-6a02-4cd2-a5d7-f0d67bb7962d",
   "metadata": {},
   "outputs": [
    {
     "data": {
      "text/latex": [
       "$\\displaystyle \\frac{\\log{\\left(\\cos{\\left(x \\right)} - 1 \\right)}}{2} - \\frac{\\log{\\left(\\cos{\\left(x \\right)} + 1 \\right)}}{2}$"
      ],
      "text/plain": [
       "log(cos(x) - 1)/2 - log(cos(x) + 1)/2"
      ]
     },
     "execution_count": 75,
     "metadata": {},
     "output_type": "execute_result"
    }
   ],
   "source": [
    "f = 1/(sin(x) ** 3)\n",
    "from sympy.abc import *\n",
    "g = (t ** 2 - 1) ** (0.5)\n",
    "Integral(1/sin(x) ** 1).doit()"
   ]
  },
  {
   "cell_type": "code",
   "execution_count": 96,
   "id": "e4b90cfa-a12d-4c84-b55e-e322603d8caa",
   "metadata": {},
   "outputs": [
    {
     "data": {
      "text/latex": [
       "$\\displaystyle - \\frac{\\log{\\left(\\cos{\\left(x \\right)} - 1 \\right)}}{4} + \\frac{\\log{\\left(\\cos{\\left(x \\right)} + 1 \\right)}}{4} + \\frac{\\cos{\\left(x \\right)}}{2 \\cos^{2}{\\left(x \\right)} - 2}$"
      ],
      "text/plain": [
       "-log(cos(x) - 1)/4 + log(cos(x) + 1)/4 + cos(x)/(2*cos(x)**2 - 2)"
      ]
     },
     "execution_count": 96,
     "metadata": {},
     "output_type": "execute_result"
    }
   ],
   "source": [
    "h = (cos(x) ** 2) / (sin(x) ** 3)\n",
    "h.integrate()"
   ]
  },
  {
   "cell_type": "code",
   "execution_count": 121,
   "id": "26808184-5f48-4a9e-bdf6-82e103308f25",
   "metadata": {},
   "outputs": [
    {
     "data": {
      "text/latex": [
       "$\\displaystyle \\frac{2}{s^{2} + 1}$"
      ],
      "text/plain": [
       "2/(s**2 + 1)"
      ]
     },
     "execution_count": 121,
     "metadata": {},
     "output_type": "execute_result"
    }
   ],
   "source": [
    "a = 1/(sin(x))\n",
    "t = tan(x/2)\n",
    "x = 2 * atan(s)\n",
    "x.diff()"
   ]
  },
  {
   "cell_type": "code",
   "execution_count": null,
   "id": "b5d8d58c-783e-4f01-b061-c824e8ed022c",
   "metadata": {},
   "outputs": [],
   "source": []
  }
 ],
 "metadata": {
  "kernelspec": {
   "display_name": "Python 3 (ipykernel)",
   "language": "python",
   "name": "python3"
  },
  "language_info": {
   "codemirror_mode": {
    "name": "ipython",
    "version": 3
   },
   "file_extension": ".py",
   "mimetype": "text/x-python",
   "name": "python",
   "nbconvert_exporter": "python",
   "pygments_lexer": "ipython3",
   "version": "3.11.5"
  }
 },
 "nbformat": 4,
 "nbformat_minor": 5
}
